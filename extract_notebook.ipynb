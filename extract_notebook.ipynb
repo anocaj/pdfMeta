{
 "cells": [
  {
   "cell_type": "code",
   "execution_count": 1,
   "metadata": {},
   "outputs": [
    {
     "name": "stdout",
     "output_type": "stream",
     "text": [
      "----Metadata of the file----\n",
      "/Author:Neil Madden\n",
      "/CreationDate:D:20201105144951Z\n",
      "/Creator:FrameMaker 2017.0.4(Foxit Advanced PDF Editor)\n",
      "/ICNAppName:Foxit Advanced PDF Editor\n",
      "/ICNAppPlatform:Windows\n",
      "/ICNAppVersion:3.05\n",
      "/ModDate:D:20201130095132\n",
      "/Producer:Acrobat Distiller 20.0 (Windows); modified using iText® 7.1.8 ©2000-2019 iText Group NV (AGPL-version)\n",
      "/Title:API Security in Action\n"
     ]
    }
   ],
   "source": [
    "from PyPDF2 import PdfFileReader\n",
    "\n",
    "filename = 'books/api-security-action.pdf'\n",
    "\n",
    "pdfFile = PdfFileReader(filename, 'rb')\n",
    "data = pdfFile.getDocumentInfo()\n",
    "print(\"----Metadata of the file----\")\n",
    "for metadata in data:\n",
    "    print(metadata + \":\" + data[metadata])\n",
    "\n"
   ]
  },
  {
   "cell_type": "code",
   "execution_count": null,
   "metadata": {},
   "outputs": [],
   "source": []
  }
 ],
 "metadata": {
  "interpreter": {
   "hash": "31f2aee4e71d21fbe5cf8b01ff0e069b9275f58929596ceb00d14d90e3e16cd6"
  },
  "kernelspec": {
   "display_name": "Python 3.8.9 64-bit",
   "language": "python",
   "name": "python3"
  },
  "language_info": {
   "codemirror_mode": {
    "name": "ipython",
    "version": 3
   },
   "file_extension": ".py",
   "mimetype": "text/x-python",
   "name": "python",
   "nbconvert_exporter": "python",
   "pygments_lexer": "ipython3",
   "version": "3.8.9"
  },
  "orig_nbformat": 4
 },
 "nbformat": 4,
 "nbformat_minor": 2
}
